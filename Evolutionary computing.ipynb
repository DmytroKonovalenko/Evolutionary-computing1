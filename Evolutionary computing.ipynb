{
  "nbformat": 4,
  "nbformat_minor": 0,
  "metadata": {
    "colab": {
      "provenance": []
    },
    "kernelspec": {
      "name": "python3",
      "display_name": "Python 3"
    },
    "language_info": {
      "name": "python"
    }
  },
  "cells": [
    {
      "cell_type": "code",
      "execution_count": 2,
      "metadata": {
        "colab": {
          "base_uri": "https://localhost:8080/"
        },
        "id": "Ioc4FT0UjgPV",
        "outputId": "a96cdaa5-d695-4a17-e91e-7d470475fe1e"
      },
      "outputs": [
        {
          "output_type": "stream",
          "name": "stdout",
          "text": [
            "Random Solution = \n",
            "[0 0 1 0 0 0 0 0 1 0 1 1 1 0 1 1 1 1 0 1 1 0]\n",
            "- Adding water: weight = 153, value = 200, accumulated weight = 153, accumulated value = 200\n",
            "- Adding cheese: weight = 23, value = 30, accumulated weight = 176, accumulated value = 230\n",
            "- Adding suntan cream: weight = 11, value = 70, accumulated weight = 187, accumulated value = 300\n",
            "- Adding camera: weight = 32, value = 30, accumulated weight = 219, accumulated value = 330\n",
            "- Adding t-shirt: weight = 24, value = 15, accumulated weight = 243, accumulated value = 345\n",
            "- Adding umbrella: weight = 73, value = 40, accumulated weight = 316, accumulated value = 385\n",
            "- Adding waterproof trousers: weight = 42, value = 70, accumulated weight = 358, accumulated value = 455\n",
            "- Adding note-case: weight = 22, value = 80, accumulated weight = 380, accumulated value = 535\n",
            "- Adding towel: weight = 18, value = 12, accumulated weight = 398, accumulated value = 547\n",
            "- Total weight = 398, Total value = 547\n"
          ]
        }
      ],
      "source": [
        "import numpy as np\n",
        "\n",
        "class Practic:\n",
        "\n",
        "\n",
        "    def __init__(self):\n",
        "\n",
        "        # initialize instance variables:\n",
        "        self.items = []\n",
        "        self.maxCapacity = 0\n",
        "\n",
        "        # initialize the data:\n",
        "        self.__initData()\n",
        "\n",
        "    def __len__(self):\n",
        "\n",
        "        return len(self.items)\n",
        "\n",
        "    def __initData(self):\n",
        "\n",
        "        self.items = [\n",
        "            (\"map\", 9, 150),\n",
        "            (\"compass\", 13, 35),\n",
        "            (\"water\", 153, 200),\n",
        "            (\"sandwich\", 50, 160),\n",
        "            (\"glucose\", 15, 60),\n",
        "            (\"tin\", 68, 45),\n",
        "            (\"banana\", 27, 60),\n",
        "            (\"apple\", 39, 40),\n",
        "            (\"cheese\", 23, 30),\n",
        "            (\"beer\", 52, 10),\n",
        "            (\"suntan cream\", 11, 70),\n",
        "            (\"camera\", 32, 30),\n",
        "            (\"t-shirt\", 24, 15),\n",
        "            (\"trousers\", 48, 10),\n",
        "            (\"umbrella\", 73, 40),\n",
        "            (\"waterproof trousers\", 42, 70),\n",
        "            (\"waterproof overclothes\", 43, 75),\n",
        "            (\"note-case\", 22, 80),\n",
        "            (\"sunglasses\", 7, 20),\n",
        "            (\"towel\", 18, 12),\n",
        "            (\"socks\", 4, 50),\n",
        "            (\"book\", 30, 10)\n",
        "        ]\n",
        "\n",
        "        self.maxCapacity = 400\n",
        "\n",
        "    def getValue(self, zeroOneList):\n",
        "\n",
        "\n",
        "        totalWeight = totalValue = 0\n",
        "\n",
        "        for i in range(len(zeroOneList)):\n",
        "            item, weight, value = self.items[i]\n",
        "            if totalWeight + weight <= self.maxCapacity:\n",
        "                totalWeight += zeroOneList[i] * weight\n",
        "                totalValue += zeroOneList[i] * value\n",
        "        return totalValue\n",
        "\n",
        "    def printItems(self, zeroOneList):\n",
        "\n",
        "        totalWeight = totalValue = 0\n",
        "\n",
        "        for i in range(len(zeroOneList)):\n",
        "            item, weight, value = self.items[i]\n",
        "            if totalWeight + weight <= self.maxCapacity:\n",
        "                if zeroOneList[i] > 0:\n",
        "                    totalWeight += weight\n",
        "                    totalValue += value\n",
        "                    print(\"- Adding {}: weight = {}, value = {}, accumulated weight = {}, accumulated value = {}\".format(item, weight, value, totalWeight, totalValue))\n",
        "        print(\"- Total weight = {}, Total value = {}\".format(totalWeight, totalValue))\n",
        "\n",
        "\n",
        "# testing the class:\n",
        "def main():\n",
        "    # create a problem instance:\n",
        "    practic = Practic()\n",
        "\n",
        "    # creaete a random solution and evaluate it:\n",
        "    randomSolution = np.random.randint(2, size=len(practic))\n",
        "    print(\"Random Solution = \")\n",
        "    print(randomSolution)\n",
        "    practic.printItems(randomSolution)\n",
        "\n",
        "\n",
        "if __name__ == \"__main__\":\n",
        "    main()"
      ]
    }
  ]
}